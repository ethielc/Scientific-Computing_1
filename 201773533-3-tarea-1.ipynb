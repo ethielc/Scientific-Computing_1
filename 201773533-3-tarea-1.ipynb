{
 "cells": [
  {
   "cell_type": "markdown",
   "metadata": {
    "colab_type": "text",
    "id": "aBPGOpUM11V1"
   },
   "source": [
    "\n",
    "<center>\n",
    "    <h1> INF285/ILI285 Computación Científica </h1>\n",
    "    <h1> Tarea N°1</h1>\n",
    "    <h2>Ethiel Carmona, 201773533-3</h2>\n",
    "</center>\n",
    "\n",
    "<p>\n",
    "\n",
    "</p>"
   ]
  },
  {
   "cell_type": "markdown",
   "metadata": {
    "colab_type": "text",
    "id": "B7MCAVSDRk3l"
   },
   "source": [
    "## Instrucciones\n",
    "\n",
    "* La tarea es individual.\n",
    "* Las consultas sobre las tareas se deben realizar por medio de la plataforma Aula.\n",
    "* La tarea debe ser realizada en `Jupyter Notebook` (`Python3`).\n",
    "* Se evaluará la correcta utilización de librerias `NumPy`, `SciPy`, entre otras, así como la correcta implementación de algoritmos de forma vectorizada.\n",
    "*  **El archivo de entrega debe denominarse ROL-tarea-numero.ipynb**. _De no respetarse este formato existirá un descuento de **50 puntos**_\n",
    "* La fecha de entrega es el jueves 30 de Abril a las **18:00 hrs**.  Se aceptarán entregas hasta las 19:00 hrs sin descuento en caso de existir algun problema, posteriormente existirá un descuento lineal hasta las 20:00 hrs del mismo día.\n",
    "* Las tareas que sean entregadas antes del jueves a mediodía recibirán una bonificación de 10 puntos\n",
    "* Debe citar cualquier código ajeno utilizado (incluso si proviene de los Jupyter Notebooks del curso).\n",
    "\n",
    "\n"
   ]
  },
  {
   "cell_type": "markdown",
   "metadata": {
    "colab_type": "text",
    "id": "PNhvmtRq2Orx"
   },
   "source": [
    "## Introducción \n",
    "\n",
    "En esta primera tarea de INF/ILI-285, versión 2020-1, estudiaremos la importancia de los primeros temas estudiados en el curso, los cuales son: Representación de Punto Flotante, Pérdida de Significancia, Errores de Cancelación y Búsqueda de Ceros. El desarrollo de cada uno de esos temas se presenta en una serie de preguntas, donde ustedes deben ir decidiendo, pregunta a pregunta, como cada uno de los temas se aplica. En general, los temas no se analizan por separado, sino de manera acoplada. Es muy importante que cada uno de los problemas sea analizado teóricamente primero, para luego poner su conocimiento en acción. Cada problema puede ser desarrollado de diversas formas, sin embargo, es muy importante determinar al final si el camino elegido resuelve la pregunta presentada."
   ]
  },
  {
   "cell_type": "code",
   "execution_count": 3,
   "metadata": {},
   "outputs": [],
   "source": [
    "import numpy as np\n",
    "import scipy.special as sp"
   ]
  },
  {
   "cell_type": "markdown",
   "metadata": {
    "colab_type": "text",
    "id": "lAtn1U0qRg2S"
   },
   "source": [
    "## Problemas"
   ]
  },
  {
   "cell_type": "markdown",
   "metadata": {
    "colab_type": "text",
    "id": "3znHUOxOUB0-"
   },
   "source": [
    "### 1. Simulador (50 ptos) \n",
    "\n",
    "Dada la familia de polinomios de grado 3 con la forma:\n",
    "\n",
    "\n",
    "\\begin{equation}\n",
    "f(x)=x^3 - A\\,x^2 + A\\,x - 1\n",
    "\\end{equation}\n",
    "\n",
    "\n",
    "Se pide implementar un algoritmo que reciba como parámetros el valor de $A$ (con $|A|>>1$) y la cantidad de bits que tiene en la mantisa un computador ficticio, el manejo del exponente debe considerarse de las misma forma que lo maneja _double precision_.\n",
    "Esta implementación debe calcular las raíces de $f$ sin perdida de significancia con la cantidad de bits disponibles para la mantisa.\n",
    "Para obtener las raíces de $f$ usted debe encontrar de forma algebraica sus raíces y luego proponer un algoritmo basado en las _fórmulas_ obtenidas.\n",
    "\n",
    "Considere que en ese computador ficticio cuenta con las operaciones matemáticas necesarias para obtener las raíces.  Considere el siguiente ejemplo:\n",
    "\n",
    "```python\n",
    "# Alg. Base\n",
    "a = 9819824.624837\n",
    "b = 148736.523476\n",
    "c = a+b\n",
    "\n",
    "# Alg. con Representación de Punto Flotante de 'bits_mant' bits en la mantisa.\n",
    "am = f_new_rep(9819824.624837,bits_mant) # Aproximar el input en la nueva representación.\n",
    "bm = f_new_rep(148736.523476,bits_mant) # Aproximar el input en la nueva representación.\n",
    "cm = f_new_rep(am+bm, bits_mant) # Aproximar el output de la suma y cada operación en la nueva representación.\n",
    "```\n"
   ]
  },
  {
   "cell_type": "code",
   "execution_count": 4,
   "metadata": {},
   "outputs": [],
   "source": [
    "# Funcion: parteEntera\n",
    "# Parametros:\n",
    "# - entero: Numero de tipo int\n",
    "# Descripcion:\n",
    "# - Transforma la parte entera de un numero real a binario\n",
    "# Retorno:\n",
    "# - lista: Lista con el valor en binario\n",
    "def parteEntera(entero):\n",
    "    lista = []\n",
    "    valor = entero\n",
    "    flag = True\n",
    "    while flag:\n",
    "        if int(valor / 2) == 0:\n",
    "            flag = False\n",
    "        lista.insert(0, str(valor % 2))\n",
    "        valor = int(valor / 2)\n",
    "    return lista"
   ]
  },
  {
   "cell_type": "code",
   "execution_count": 5,
   "metadata": {},
   "outputs": [],
   "source": [
    "# Funcion: parteDecimal\n",
    "# Parametros:\n",
    "# - decimal: Numero de tipo float\n",
    "# Descripcion:\n",
    "# - Transforma la parte decimal de un numero real a binario\n",
    "# Retorno:\n",
    "# - lista: Lista con el valor en binario\n",
    "def parteDecimal(decimal):\n",
    "    lista = []\n",
    "    aparecidos = []\n",
    "    valor = decimal\n",
    "    flag = True\n",
    "    if decimal == 0:\n",
    "        lista = [\"0\"]\n",
    "        return lista\n",
    "    while flag:\n",
    "        valor = valor * 2\n",
    "        if valor >= 1:\n",
    "            resto = valor - 1\n",
    "            if resto in aparecidos:\n",
    "                flag = False\n",
    "            lista.append(\"1\")\n",
    "            aparecidos.append(resto)\n",
    "            valor = resto\n",
    "        else:\n",
    "            if valor in aparecidos:\n",
    "                flag = False\n",
    "            lista.append(\"0\")\n",
    "            aparecidos.append(valor)\n",
    "    return lista"
   ]
  },
  {
   "cell_type": "code",
   "execution_count": 6,
   "metadata": {},
   "outputs": [],
   "source": [
    "# Funcion: correrFraccion\n",
    "# Parametros:\n",
    "# - list_frac: Lista que contiene la parte fraccionaria en binario del numero real\n",
    "# Descripcion:\n",
    "# - Calcula la cantidad de posiciones que se debe mover el punto que separa la parte entera de la fraccionaria binaria\n",
    "# Retorno:\n",
    "# - contador: Numero de posiciones a moverse (De cierta forma, es el exponente)\n",
    "def correrFraccion(list_frac):\n",
    "    largo = len(list_frac)\n",
    "    contador = 0\n",
    "    while contador < largo:\n",
    "        if list_frac[contador] == \"1\":\n",
    "            break\n",
    "        else:\n",
    "            contador += 1\n",
    "    return contador"
   ]
  },
  {
   "cell_type": "code",
   "execution_count": 7,
   "metadata": {},
   "outputs": [],
   "source": [
    "# Funcion: correrEntera\n",
    "# Parametros:\n",
    "# - list_entera: Lista que contiene la parte entera en binario del numero real\n",
    "# Descripcion:\n",
    "# - Calcula la cantidad de posiciones que se debe mover el punto que separa la parte entera de la fraccionaria binaria\n",
    "# Retorno:\n",
    "# - Retorna el largo de la parte binaria entera menos 1, asi podemos pasar de 10101 a 1.0101, básicamente.\n",
    "def correrEntera(list_entera):\n",
    "    return len(list_entera) - 1"
   ]
  },
  {
   "cell_type": "code",
   "execution_count": 8,
   "metadata": {},
   "outputs": [],
   "source": [
    "# Funcion: suma\n",
    "# Parametros:\n",
    "# - lista: Realiza la suma de la mantisa con 1, para poder respetar las condiciones de aproximacion del bit 'bit_mant + 1'\n",
    "# Descripcion:\n",
    "# - Obtiene la mantisa redondeada\n",
    "# Retorno:\n",
    "# - lista: Lista con la mantisa redondeada\n",
    "def suma(lista):\n",
    "    largo = len(lista) - 1\n",
    "    while largo > 0:\n",
    "        if lista[largo] == '0':\n",
    "            lista[largo] = '1'\n",
    "            break\n",
    "        else:\n",
    "            lista[largo] == '0'\n",
    "            largo -= 1\n",
    "    return lista"
   ]
  },
  {
   "cell_type": "code",
   "execution_count": 9,
   "metadata": {},
   "outputs": [],
   "source": [
    "# Funcion: suma_mantisa\n",
    "# Parametros:\n",
    "# - lista: Lista que contiene la mantisa en bits\n",
    "# Descripcion:\n",
    "# - Calcula si se debe sumar un 1 a la mantisa nueva\n",
    "# Retorno:\n",
    "# - lista: Lista con la mantisa redondeada\n",
    "def suma_mantisa(lista, mantisa):\n",
    "    if lista[mantisa] == '0':\n",
    "        #Si bit 'mantisa+1' es 0\n",
    "        return lista[:mantisa]\n",
    "    else:\n",
    "        #Bit 'mantisa+1' es 1\n",
    "        iteracion = lista[mantisa:]\n",
    "        hay_bit_1 = 0\n",
    "        largo_iteracion = len(iteracion)\n",
    "        contador = 1\n",
    "        while contador < largo_iteracion:\n",
    "            if iteracion[contador] == '1':\n",
    "                hay_bit_1 = 1\n",
    "                break\n",
    "            contador += 1\n",
    "        lista = lista[:mantisa]\n",
    "        if hay_bit_1 == 1:\n",
    "            #SUMAR\n",
    "            return suma(lista)\n",
    "        else:\n",
    "            if lista[mantisa - 1] == '1':\n",
    "                #SUMAR\n",
    "                return suma(lista)\n",
    "            else:\n",
    "                return lista"
   ]
  },
  {
   "cell_type": "code",
   "execution_count": 10,
   "metadata": {},
   "outputs": [],
   "source": [
    "# Funcion: exponenciacion\n",
    "# Parametros:\n",
    "# - entero: lista que con los bits de la parte entera \n",
    "# - fraccion: lista con los bits de la parte fraccionaria\n",
    "# Descripcion:\n",
    "# - Transforma de binario a base decimal\n",
    "# Retorno:\n",
    "# - flotante con la suma previamente mencionada\n",
    "def exponenciacion(entero, fraccion):\n",
    "    largo_entero = len(entero)\n",
    "    largo_frac = len(fraccion)\n",
    "    val_entero = 0\n",
    "    val_frac = 0.0\n",
    "    posicion_entero = 0\n",
    "    while posicion_entero < largo_entero:\n",
    "        val_entero += int(entero[posicion_entero]) * 2**(largo_entero - 1 - posicion_entero)\n",
    "        posicion_entero += 1\n",
    "    posicion_frac = 0\n",
    "    potencia = -1\n",
    "    while posicion_frac < largo_frac:\n",
    "        val_frac += int(fraccion[posicion_frac]) * 2**(potencia)\n",
    "        potencia -= 1\n",
    "        posicion_frac += 1\n",
    "    return val_entero + val_frac"
   ]
  },
  {
   "cell_type": "code",
   "execution_count": 11,
   "metadata": {},
   "outputs": [],
   "source": [
    "# Funcion: binarioDecimal\n",
    "# Parametros:\n",
    "# - lista: Lista que contiene la mantisa\n",
    "# - exponente: Cantidad de posiciones que se debe correr el punto\n",
    "# Descripcion:\n",
    "# - Prepara la mantisa ajustandola para dejarla en binario con una parte entera y una parte fraccionaria\n",
    "# Retorno:\n",
    "# - flotante con la suma previamente mencionada\n",
    "def binarioDecimal(lista, exponente):\n",
    "    x = abs(len(lista) - abs(exponente))\n",
    "    aux = ['0']\n",
    "    if x != 0:\n",
    "        lista += aux * x\n",
    "    entera = []\n",
    "    fraccion = []\n",
    "    if exponente >= 0:\n",
    "        entera = lista[:exponente]\n",
    "        entera.insert(0, '1')\n",
    "        fraccion = lista[exponente:]\n",
    "    else:\n",
    "        fraccion = ['0'] * (-exponente - 1)\n",
    "        entera = ['0']\n",
    "        lista.insert(0, '1')\n",
    "        fraccion = fraccion + lista\n",
    "    return exponenciacion(entera, fraccion)\n",
    "        "
   ]
  },
  {
   "cell_type": "code",
   "execution_count": 12,
   "metadata": {
    "colab": {},
    "colab_type": "code",
    "id": "2efm5YD2UBGD",
    "scrolled": false
   },
   "outputs": [],
   "source": [
    "\"\"\"\n",
    "input\n",
    "x         : (double) valor a evaluar\n",
    "bits_mant : (int) cantidad de bits de la mantisa\n",
    "output\n",
    "eval      : (double) resultado obtenido\n",
    "\"\"\"\n",
    "# Algoritmo de representación de punto flotante modificada.\n",
    "def f_new_rep(x, bits_mant):\n",
    "    if x == 0:\n",
    "        return 0\n",
    "    signo = 0 if x >= 0 else 1\n",
    "    x = abs(float(x))\n",
    "    x = format(x, '.52f')\n",
    "    x_string = str(x)\n",
    "    \n",
    "    pos_dot = x_string.find('.')\n",
    "    x_entero = x_string[0:pos_dot]\n",
    "    x_decimal = x_string[pos_dot:]\n",
    "    \n",
    "    p_entera_bin = parteEntera(int(x_entero))\n",
    "    p_decimal_bin = parteDecimal(float(x_decimal))\n",
    "    \n",
    "    corrimiento = correrFraccion(p_decimal_bin) + 1 if len(p_entera_bin) == 1 and p_entera_bin[0] == '0' else -correrEntera(p_entera_bin)\n",
    "    exponente = -corrimiento\n",
    "    \n",
    "    if corrimiento >= 0: #muevo a la derecha\n",
    "        p_decimal_bin = p_decimal_bin[corrimiento:]\n",
    "    else: #muevo a la izquierda\n",
    "        p_decimal_bin = p_decimal_bin\n",
    "        p_decimal_bin = p_entera_bin[len(p_entera_bin) + corrimiento:] + p_decimal_bin\n",
    "        #p_entera_bin = p_entera_bin[:len(p_entera_bin) + corrimiento]\n",
    "        \n",
    "    p_decimal_bin += ['0'] * bits_mant\n",
    "    \n",
    "    p_decimal_bin = suma_mantisa(p_decimal_bin, bits_mant)\n",
    "    result = binarioDecimal(p_decimal_bin, exponente) * (-1)**signo\n",
    "    return  result"
   ]
  },
  {
   "cell_type": "markdown",
   "metadata": {},
   "source": [
    "De la ecuación:\n",
    "\n",
    "\\begin{equation}\n",
    "f(x)=x^3 - A\\,x^2 + A\\,x - 1\n",
    "\\end{equation}\n",
    "\n",
    "Se puede observar que $x = 1$ es una raíz. Luego, con esta solución y al hacer división de polinomios para encontrar las raíces faltantes, obtenemos:\n",
    "\n",
    "\\begin{equation}\n",
    "f(x) = (x-1)(x^2 + (1-A)x + 1)\n",
    "\\end{equation}\n",
    "\n",
    "Donde podemos ocupar la fórmula de raíces para ecuaciones cuadráticas:\n",
    "\n",
    "\\begin{equation}\n",
    "x = \\frac{-b \\pm \\sqrt{b^2 - 4ac}}{2a}\n",
    "\\end{equation}\n",
    "\n",
    "Obteniendo las siguientes soluciones:\n",
    "\n",
    "\\begin{equation}\n",
    "x_{1} = \\frac{-b + \\sqrt{b^2 - 4ac}}{2a} = \\frac{A - 1 + \\sqrt{A^2 - 2A - 3}}{2}\n",
    "\\end{equation}\n",
    "\n",
    "\\begin{equation}\n",
    "x_{2} = \\frac{-b - \\sqrt{b^2 - 4ac}}{2a} = \\frac{A - 1 - \\sqrt{A^2 - 2A - 3}}{2}\n",
    "\\end{equation}\n",
    "\n",
    "Para evitar perdida de significancia, la solucion $x_{1}$ se multiplica por un uno conveniente:\n",
    "\n",
    "\\begin{equation}\n",
    "x_{1} = \\frac{-b + \\sqrt{b^2 - 4ac}}{2a} \\frac{-b - \\sqrt{b^2 - 4ac}}{-b - \\sqrt{b^2 - 4ac}} = \\frac{2c}{- b - \\sqrt{b^2 - 4ac}}\n",
    "\\end{equation}\n",
    "\n",
    "Obteniendo así las siguientes soluciones:\n",
    "\n",
    "\\begin{equation}\n",
    "x_{1} = \\frac{2}{A - 1 - \\sqrt{A^2 - 2A - 3}}\n",
    "\\end{equation}\n",
    "\n",
    "\\begin{equation}\n",
    "x_{2} = \\frac{A - 1 - \\sqrt{A^2 - 2A - 3}}{2}\n",
    "\\end{equation}\n",
    "\n",
    "\\begin{equation}\n",
    "x_{3} = 1\n",
    "\\end{equation}"
   ]
  },
  {
   "cell_type": "code",
   "execution_count": 13,
   "metadata": {},
   "outputs": [],
   "source": [
    "def f_find_roots(A, bits_mant):\n",
    "    A = f_new_rep(A, bits_mant)\n",
    "    eval_1 = f_new_rep(A-1, bits_mant) #A - 1\n",
    "    eval_2 = f_new_rep(A * A, bits_mant) #A^2\n",
    "    eval_3 = f_new_rep(2 * A, bits_mant) #2A\n",
    "    eval_4 = f_new_rep(eval_2 - eval_3, bits_mant) #A^2 - 2A\n",
    "    eval_5 = f_new_rep(eval_4 - 3, bits_mant) #A^2 - 2A - 3\n",
    "    eval_6 = f_new_rep(np.sqrt(eval_5), bits_mant) # RAIZ()\n",
    "    eval_7 = f_new_rep(eval_1 + eval_6, bits_mant) # A - 1 + RAIZ()\n",
    "    sol_1 = f_new_rep(2 / eval_7, bits_mant)\n",
    "    sol_2 = f_new_rep(eval_7 / 2, bits_mant)\n",
    "    x_roots = [1, sol_1, sol_2]\n",
    "    return x_roots"
   ]
  },
  {
   "cell_type": "markdown",
   "metadata": {
    "colab_type": "text",
    "id": "Nw-jJfD-VPMa"
   },
   "source": [
    "### Polinomios de Legendre (50 puntos)\n",
    "Dada la función compuesta $f$\n",
    "\\begin{equation}\n",
    "f_{n,m}(x) = L_n(C_m(x)),\n",
    "\\end{equation}\n",
    "donde $L_n$ es conocido como el polinomio de Legendre de grado $n$ definido de la siguiente forma:\n",
    "\\begin{equation}\n",
    "L_{n}(x)=\\frac{1}{2^{n}} \\sum_{k=0}^{n}\\left(\\begin{array}{l}\n",
    "n \\\\\n",
    "k\n",
    "\\end{array}\\right)^{2}(x-1)^{n-k}(x+1)^{k},\n",
    "\\end{equation}\n",
    "y $C_m$ es el polinomio de Chebyshev\n",
    "\\begin{equation}\n",
    "C_m(x) = \\cos(m \\cdot \\arccos(x)).\n",
    "\\end{equation}\n",
    "\n",
    "Utilizando el método de Bisección y Punto fijo se pide obtener la raíz de $f$ más cercana a $0.5$ dado un valor de $m$ y $n$\n",
    "\n",
    "\n",
    "\n",
    "*Hint: Las raíces de Legendre son conocidas*\n",
    "\n"
   ]
  },
  {
   "cell_type": "markdown",
   "metadata": {},
   "source": [
    "-"
   ]
  },
  {
   "cell_type": "markdown",
   "metadata": {},
   "source": [
    "-"
   ]
  },
  {
   "cell_type": "markdown",
   "metadata": {},
   "source": [
    "Para la función Bisección, definí un intervalo [a, b] cercano a 0,5 como se puede observar dentro de la misma función.\n",
    "Este intervalo lo definí en funcion de $m$ ya que a medida que este aumenta, la frecuencia del coseno también lo hace, por lo que las posibles soluciones de este para Legendre estarán cada vez mas cercanas.\n",
    "El factor $m$ dentro de este mismo, me brinda de alguna forma \"proporcional\", la precisión necesaria para poder adentrarme lo suficiente en el intervalo que tenga la raíz mas cercana a 0,5, evitando así retornar alguna que esté más alejada."
   ]
  },
  {
   "cell_type": "code",
   "execution_count": 14,
   "metadata": {},
   "outputs": [],
   "source": [
    "c_m = lambda m, x: np.cos(m * np.arccos(x))"
   ]
  },
  {
   "cell_type": "code",
   "execution_count": 15,
   "metadata": {},
   "outputs": [],
   "source": [
    "# Funcion: l_n\n",
    "# Parametros:\n",
    "# - x: valor obtenido de c_m (del coseno)\n",
    "# - n: Polinomio n-ésimo de Legendre\n",
    "# Descripcion:\n",
    "# - Evalúa el resultado x en el polinomio\n",
    "# Retorno:\n",
    "# - solución flotante para Legendre con el valor x\n",
    "def l_n(x, n):\n",
    "    p = sp.legendre(n)\n",
    "    return p(x)"
   ]
  },
  {
   "cell_type": "code",
   "execution_count": 16,
   "metadata": {
    "colab": {},
    "colab_type": "code",
    "id": "x0rfc_-6JTrG"
   },
   "outputs": [],
   "source": [
    "\"\"\"\n",
    "input\n",
    "n: (int) grado del polinomio de Legendre\n",
    "m: (int) grado del polinomio de Chebyshev\n",
    "tol: (double) tolerancia para la detención del algoritmo\n",
    "output\n",
    "root: (double) raiz obtenida\n",
    "\"\"\"\n",
    "def f_Biseccion(n, m, tol):\n",
    "    ##\n",
    "    a = 0.5 - (1/m)\n",
    "    b = 0.5 + (1/m)\n",
    "    while (b - a) / 2 > tol:\n",
    "        c = (a + b) / 2\n",
    "        if l_n(c_m(m, c), n) == 0:\n",
    "            break\n",
    "        if l_n(c_m(m, a), n) * l_n(c_m(m, c), n) < 0:\n",
    "            b = c\n",
    "        else:\n",
    "            a = c\n",
    "    return (a + b) / 2"
   ]
  },
  {
   "cell_type": "markdown",
   "metadata": {},
   "source": [
    "Para el caso de FPI, considerar (a + b)/2 como x_0 no es la mejor idea, ya que esta iterará hasta encontrar la primera raíz, la cual, dependiendo del valor de $m$ no necesariamente sería la mas cercana. Por lo cual, tomando el hint de que las raíces de Legendre son conocidas, busqué la raíz mas cercana a 0.5 (no evaluada en el coseno) y la utilicé como valor inicial."
   ]
  },
  {
   "cell_type": "code",
   "execution_count": 18,
   "metadata": {},
   "outputs": [],
   "source": [
    "\n",
    "def raizCercana(n):\n",
    "    raices = sp.roots_legendre(n)[0]\n",
    "    aux = 500 #Numero lo suficientemente grande\n",
    "    for raiz in raices:\n",
    "        if abs(raiz - 0.5) < abs(aux - 0.5):\n",
    "            aux = raiz\n",
    "    return aux\n",
    "\n",
    "\"\"\"\n",
    "input\n",
    "n: (int) grado del polinomio de Legendre\n",
    "m: (int) grado del polinomio de Chebyshev\n",
    "tol: (double) tolerancia para la detención del algoritmo\n",
    "output\n",
    "root: (double) raiz obtenida\n",
    "\"\"\"\n",
    "def f_FPI(n, m, tol):\n",
    "    aux = raizCercana(n)\n",
    "    h = lambda x: x - aux / 10**3 + c_m(m, x) / 10**3\n",
    "    \n",
    "    raiz = h(aux)\n",
    "    flag = True\n",
    "    while flag:\n",
    "        x_0 = h(raiz)\n",
    "        if abs(x_0 - raiz) < tol:\n",
    "            break\n",
    "        raiz = x_0\n",
    "    return x_0"
   ]
  },
  {
   "cell_type": "markdown",
   "metadata": {
    "colab_type": "text",
    "id": "sv7nBimeVOT2"
   },
   "source": [
    "###  Determinantes (20 puntos)"
   ]
  },
  {
   "cell_type": "markdown",
   "metadata": {
    "colab_type": "text",
    "id": "fZPW_hUvQTW_"
   },
   "source": [
    "Dada una matriz de dimensiones $ n \\times n$ de la forma:\n",
    "\\begin{equation}\n",
    "A\n",
    "=\n",
    "\\begin{pmatrix}\n",
    "a_{1,1} & a_{1,2}  & \\dots & a_{1,n} \\\\\n",
    "a_{2,1} & a_{2,2}  & \\dots & a_{2,n} \\\\\n",
    "\\vdots &  \\vdots   & \\ddots & \\vdots \\\\\n",
    "a_{n,1} & a_{n,2}  & \\dots & a_{n,n}\n",
    "\\end{pmatrix}\n",
    "=\n",
    "\\begin{pmatrix}\n",
    "\\mathbf{r}_1 \\\\\n",
    "\\mathbf{r}_2 \\\\\n",
    "\\vdots \\\\\n",
    "\\mathbf{r}_n \\\\\n",
    "\\end{pmatrix},\n",
    "\\end{equation}\n",
    "donde $\\mathbf{r}_k$ representa la $k$-ésima fila de la matriz $A$.\n",
    "Considere la siguiente matriz $C_{i,j}(\\alpha)$,\n",
    "\\begin{equation}\n",
    "C_{i,j}(\\alpha)\n",
    "=\n",
    "\\begin{pmatrix}\n",
    "\\mathbf{r}_1 \\\\\n",
    "\\vdots \\\\\n",
    "\\mathbf{r}_i\\,(1-\\alpha)+\\mathbf{r}_j\\,\\alpha \\\\\n",
    "\\vdots \\\\\n",
    "\\mathbf{r}_j\\,(1-\\alpha)+\\mathbf{r}_i\\,\\alpha \\\\\n",
    "\\vdots \\\\\n",
    "\\mathbf{r}_n \\\\\n",
    "\\end{pmatrix},\n",
    "\\end{equation}\n",
    "de lo cual sabemos que \\begin{align}$C_{i,j}(0)=A$ y que $C_{i,j}(1)$\\end{align} es la matriz $A$ donde se intercambiaron las filas $i$ y $j$, es decir:\n",
    "\\begin{equation}\n",
    "C_{i,j}(1)\n",
    "=\n",
    "\\begin{pmatrix}\n",
    "\\mathbf{r}_1 \\\\\n",
    "\\vdots \\\\\n",
    "\\mathbf{r}_j \\\\\n",
    "\\vdots \\\\\n",
    "\\mathbf{r}_i \\\\\n",
    "\\vdots \\\\\n",
    "\\mathbf{r}_n \\\\\n",
    "\\end{pmatrix}.\n",
    "\\end{equation}\n",
    "De las relaciones anteriores podemos concluir que el determinante de la matriz $A$, denominado $D=\\det(A)$, es igual al determinante de $C_{i,j}(0)$, es decir $\\det(C_{i,j}(0))=\\det(A)=D$.\n",
    "Por el otro lado, el determinante de $C_{i,j}(1)$ es $-D$, dado que es el intercambio de las filas $i$ y $j$ de la matriz $A$.\n",
    "Por lo cual podemos concluir que $-D\\leq \\det(C_{i,j}(\\alpha))\\leq D$.\n",
    "\n",
    "Utilizando el método de Bisección debe encontrar el valor de $\\alpha$ con $p$ decimales de precisión que permitan que, dado los índices de las filas $i$, $j$, y $i\\neq j$, el determinante de la matriz sea igual a $d$, donde $d\\in[-D,D]$. \n",
    "\n",
    "Para esto se debe implementar una función que reciba la matriz $A$, las filas $i$ y $j$, y $p$; y retorne $\\widehat{\\alpha}$ tal que $\\det(C_{i,j}(\\widehat{\\alpha}))=d$."
   ]
  },
  {
   "cell_type": "markdown",
   "metadata": {},
   "source": [
    "En general lo que hice en esta pregunta fue comparar los determinantes.\n",
    "Lo que si debo destacar fue la obtención de la cantidad de iteraciones, la cual fue usando:\n",
    "\n",
    "\\begin{equation}\n",
    "[1]: 0,5 x 10^{-p} = \\frac{|b - a|}{2^{n+1}}\n",
    "\\end{equation}\n",
    "\n",
    "Despejando $n$ (cantidad maxima de iteraciones), tenemos:\n",
    "\n",
    "\\begin{equation}\n",
    "n = log_{2}{10^p}\n",
    "\\end{equation}"
   ]
  },
  {
   "cell_type": "code",
   "execution_count": 19,
   "metadata": {
    "colab": {},
    "colab_type": "code",
    "id": "ZewzBMC0WevO"
   },
   "outputs": [],
   "source": [
    "\"\"\"\n",
    "input\n",
    "A: (array n x n) matriz\n",
    "i: (int) índice de la fila \"i\".\n",
    "j: (int) índice de la fila \"j\".\n",
    "p: (int) cantidad de decimales de precision \n",
    "d: (double) valor requerido del determinante de $C_{i,j}(\\alpha)$, i.e. $\\det(C_{i,j}(\\widehat{\\alpha}))=d$.\n",
    "output\n",
    "alpha_hat: (double) alpha_hat tal que det(C_{i,j}(alpha_hat))=d.\n",
    "\"\"\"\n",
    "det = lambda x: np.linalg.det(x)\n",
    "\n",
    "def determinante(A, i, j, c):\n",
    "    B = np.copy(A)\n",
    "    B[i] = np.copy(A)[i] * (1 - c) + np.copy(A)[j] * c\n",
    "    B[j] = np.copy(A)[j] * (1 - c) + np.copy(A)[i] * c\n",
    "    return det(B)\n",
    "\n",
    "def find_alpha_hat(A,i,j,p,d):\n",
    "    h = lambda x: d - x\n",
    "    a = 0.\n",
    "    b = 1.\n",
    "    n = round(np.log2(10**p))\n",
    "    contador = 0\n",
    "    #Casos borde\n",
    "    if abs(d) > abs(det(A)):\n",
    "        if d*det(A) < 0:\n",
    "            return 1\n",
    "        else:\n",
    "            return 0\n",
    "    #Casos normalitos\n",
    "    while contador < n:\n",
    "        c = (a + b) / 2\n",
    "        det_a = determinante(A, i, j, a)\n",
    "        det_b = determinante(A, i, j, b)\n",
    "        det_c = determinante(A, i, j, c)\n",
    "        h_a = h(det_a)\n",
    "        h_b = h(det_b)\n",
    "        h_c = h(det_c)\n",
    "        if h_c == 0:\n",
    "            break\n",
    "        if h_a * h_c < 0:\n",
    "            b = c\n",
    "        else:\n",
    "            a = c\n",
    "        contador += 1\n",
    "    \n",
    "    return round(((a + b) / 2), p)"
   ]
  },
  {
   "cell_type": "markdown",
   "metadata": {
    "colab_type": "text",
    "id": "gVOkWN_zrvR9"
   },
   "source": [
    "# Referencias\n",
    "\n",
    "Si corresponde"
   ]
  },
  {
   "cell_type": "markdown",
   "metadata": {},
   "source": [
    "[1] Sección 1.1.2, Numerical Analysis 2nd Edition, Timothy Sauer.\n",
    "\n",
    "*A modo general, el comportamiento de las bisecciones o fpi se comportan similar a las enseñadas por los profesores, estas se pueden encontrar dentro de sus Jupyter. En particular, me guíe por:\n",
    "\n",
    "Paralelo 200, Jupyter-Notebook, INF-285/material/03_raices_1D/ejemplo_biseccion_ipf.ipynb"
   ]
  },
  {
   "cell_type": "code",
   "execution_count": null,
   "metadata": {},
   "outputs": [],
   "source": []
  }
 ],
 "metadata": {
  "colab": {
   "collapsed_sections": [],
   "name": "Tarea1-CC.ipynb",
   "provenance": [],
   "toc_visible": true
  },
  "kernelspec": {
   "display_name": "Python 3",
   "language": "python",
   "name": "python3"
  },
  "language_info": {
   "codemirror_mode": {
    "name": "ipython",
    "version": 3
   },
   "file_extension": ".py",
   "mimetype": "text/x-python",
   "name": "python",
   "nbconvert_exporter": "python",
   "pygments_lexer": "ipython3",
   "version": "3.6.9"
  }
 },
 "nbformat": 4,
 "nbformat_minor": 1
}
